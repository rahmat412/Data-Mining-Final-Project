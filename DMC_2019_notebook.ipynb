{
  "cells": [
    {
      "cell_type": "markdown",
      "metadata": {
        "id": "UKGaA6o0qSG-"
      },
      "source": [
        "Rahmatur Ramadhan\r\n",
        "1301184468<br>"
      ]
    },
    {
      "cell_type": "markdown",
      "metadata": {
        "id": "guWy_NI-y7oX"
      },
      "source": [
        "# Prerequisites"
      ]
    },
    {
      "cell_type": "code",
      "execution_count": 1,
      "metadata": {
        "id": "B7a6yEHmQxJv"
      },
      "outputs": [],
      "source": [
        "import pandas as pd\r\n",
        "from tqdm import tqdm"
      ]
    },
    {
      "cell_type": "code",
      "execution_count": 2,
      "metadata": {
        "colab": {
          "base_uri": "https://localhost:8080/"
        },
        "id": "sM-JHuhXRkUZ",
        "outputId": "5dad957f-d637-454f-a310-ad7bd802fec2"
      },
      "outputs": [
        {
          "name": "stdout",
          "output_type": "stream",
          "text": [
            "(1879, 10)\n",
            "(498121, 9)\n",
            "(498121,)\n"
          ]
        }
      ],
      "source": [
        "train = pd.read_csv('DMC_2019_task/train.csv', sep='|')\r\n",
        "test = pd.read_csv('DMC_2019_task/test.csv', sep='|')\r\n",
        "truth = pd.read_csv('DMC-2019-realclass.csv', sep='|').values.flatten()\r\n",
        "print(train.shape)\r\n",
        "print(test.shape)\r\n",
        "print(truth.shape)"
      ]
    },
    {
      "cell_type": "code",
      "execution_count": 9,
      "metadata": {
        "colab": {
          "base_uri": "https://localhost:8080/"
        },
        "id": "EYdHSfllWKfg",
        "outputId": "d4633c77-2334-4180-830a-6dcac1f1597d"
      },
      "outputs": [
        {
          "data": {
            "application/vnd.code.notebook.stdout": [
              "<class 'pandas.core.frame.DataFrame'>\n",
              "RangeIndex: 1879 entries, 0 to 1878\n",
              "Data columns (total 10 columns):\n",
              " #   Column                     Non-Null Count  Dtype  \n",
              "---  ------                     --------------  -----  \n",
              " 0   trustLevel                 1879 non-null   int64  \n",
              " 1   totalScanTimeInSeconds     1879 non-null   int64  \n",
              " 2   grandTotal                 1879 non-null   float64\n",
              " 3   lineItemVoids              1879 non-null   int64  \n",
              " 4   scansWithoutRegistration   1879 non-null   int64  \n",
              " 5   quantityModifications      1879 non-null   int64  \n",
              " 6   scannedLineItemsPerSecond  1879 non-null   float64\n",
              " 7   valuePerSecond             1879 non-null   float64\n",
              " 8   lineItemVoidsPerPosition   1879 non-null   float64\n",
              " 9   fraud                      1879 non-null   int64  \n",
              "dtypes: float64(4), int64(6)\n",
              "memory usage: 146.9 KB\n"
            ]
          },
          "output_type": "unknown"
        }
      ],
      "source": [
        "train.info()"
      ]
    },
    {
      "cell_type": "markdown",
      "metadata": {
        "id": "x8BRw6bdX7tP"
      },
      "source": [
        "# Data Overview"
      ]
    },
    {
      "cell_type": "markdown",
      "metadata": {
        "id": "t6YKpEIScbra"
      },
      "source": [
        "**Dataset Description**\r\n",
        "\r\n",
        "This dataset is a dataset from a *self-checkout* machine in a shop that is currently testing a machine that allows buyers to input the purchased items and then pay for them independently. This dataset has a *fraud* column that shows whether a transaction is included in the fraud category or not."
      ]
    },
    {
      "cell_type": "markdown",
      "metadata": {
        "id": "Rf0_DsyfaT3c"
      },
      "source": [
        "**Columns Description** <br>\n",
        "**trustLevel** : A customer’s individual trust level. 6 means Highest trustworthiness <br>\n",
        "**totalScanTimeInSeconds** : Total time in seconds between the first and last product scanned <br>\n",
        "**grandTotal** : Grand total of products scanned <br>\n",
        "**lineItemVoids** : Number of voided scans <br>\n",
        "**scansWithoutRegistration** : Number of attempts to activate the scanner without actually scanning anything <br>\n",
        "**quantityModification** : Number of modified quantities for one of the scanned products <br>\n",
        "**scannedLineItemsPerSecond** : Average number of scanned products per second <br>\n",
        "**valuePerSecond** : Average total value of scanned products per second <br>\n",
        "**lineItemVoidsPerPosition** : Average number of item\n",
        "voids per total number of all scanned and not cancelled products <br>\n",
        "**fraud** : Classification as fraud (1) or not fraud (0)\n",
        "\n",
        "\n"
      ]
    },
    {
      "cell_type": "markdown",
      "metadata": {
        "id": "DKYxKjmSivez"
      },
      "source": [
        "**Fact**: Each column affects each other (Multicollinearity)\r\n",
        "\r\n",
        "**Hypothesis**: If you want to scale the data, use a standard scaler.\r\n",
        "\r\n",
        "**Hypothesis**: We can get the number of purchased items by multiplying the columns *totalScanTimeInSeconds* and *scannedLineItemsPerSecond*"
      ]
    },
    {
      "cell_type": "code",
      "execution_count": 3,
      "metadata": {
        "colab": {
          "base_uri": "https://localhost:8080/",
          "height": 427
        },
        "id": "l2gM1_GuY8IW",
        "outputId": "686e1073-d4be-43e9-d34c-45fe7a76a7cc"
      },
      "outputs": [
        {
          "data": {
            "text/html": [
              "<div>\n",
              "<style scoped>\n",
              "    .dataframe tbody tr th:only-of-type {\n",
              "        vertical-align: middle;\n",
              "    }\n",
              "\n",
              "    .dataframe tbody tr th {\n",
              "        vertical-align: top;\n",
              "    }\n",
              "\n",
              "    .dataframe thead th {\n",
              "        text-align: right;\n",
              "    }\n",
              "</style>\n",
              "<table border=\"1\" class=\"dataframe\">\n",
              "  <thead>\n",
              "    <tr style=\"text-align: right;\">\n",
              "      <th></th>\n",
              "      <th>trustLevel</th>\n",
              "      <th>totalScanTimeInSeconds</th>\n",
              "      <th>grandTotal</th>\n",
              "      <th>lineItemVoids</th>\n",
              "      <th>scansWithoutRegistration</th>\n",
              "      <th>quantityModifications</th>\n",
              "      <th>scannedLineItemsPerSecond</th>\n",
              "      <th>valuePerSecond</th>\n",
              "      <th>lineItemVoidsPerPosition</th>\n",
              "      <th>fraud</th>\n",
              "    </tr>\n",
              "  </thead>\n",
              "  <tbody>\n",
              "    <tr>\n",
              "      <th>0</th>\n",
              "      <td>5</td>\n",
              "      <td>1054</td>\n",
              "      <td>54.70</td>\n",
              "      <td>7</td>\n",
              "      <td>0</td>\n",
              "      <td>3</td>\n",
              "      <td>0.027514</td>\n",
              "      <td>0.051898</td>\n",
              "      <td>0.241379</td>\n",
              "      <td>0</td>\n",
              "    </tr>\n",
              "    <tr>\n",
              "      <th>1</th>\n",
              "      <td>3</td>\n",
              "      <td>108</td>\n",
              "      <td>27.36</td>\n",
              "      <td>5</td>\n",
              "      <td>2</td>\n",
              "      <td>4</td>\n",
              "      <td>0.129630</td>\n",
              "      <td>0.253333</td>\n",
              "      <td>0.357143</td>\n",
              "      <td>0</td>\n",
              "    </tr>\n",
              "    <tr>\n",
              "      <th>2</th>\n",
              "      <td>3</td>\n",
              "      <td>1516</td>\n",
              "      <td>62.16</td>\n",
              "      <td>3</td>\n",
              "      <td>10</td>\n",
              "      <td>5</td>\n",
              "      <td>0.008575</td>\n",
              "      <td>0.041003</td>\n",
              "      <td>0.230769</td>\n",
              "      <td>0</td>\n",
              "    </tr>\n",
              "    <tr>\n",
              "      <th>3</th>\n",
              "      <td>6</td>\n",
              "      <td>1791</td>\n",
              "      <td>92.31</td>\n",
              "      <td>8</td>\n",
              "      <td>4</td>\n",
              "      <td>4</td>\n",
              "      <td>0.016192</td>\n",
              "      <td>0.051541</td>\n",
              "      <td>0.275862</td>\n",
              "      <td>0</td>\n",
              "    </tr>\n",
              "    <tr>\n",
              "      <th>4</th>\n",
              "      <td>5</td>\n",
              "      <td>430</td>\n",
              "      <td>81.53</td>\n",
              "      <td>3</td>\n",
              "      <td>7</td>\n",
              "      <td>2</td>\n",
              "      <td>0.062791</td>\n",
              "      <td>0.189605</td>\n",
              "      <td>0.111111</td>\n",
              "      <td>0</td>\n",
              "    </tr>\n",
              "    <tr>\n",
              "      <th>...</th>\n",
              "      <td>...</td>\n",
              "      <td>...</td>\n",
              "      <td>...</td>\n",
              "      <td>...</td>\n",
              "      <td>...</td>\n",
              "      <td>...</td>\n",
              "      <td>...</td>\n",
              "      <td>...</td>\n",
              "      <td>...</td>\n",
              "      <td>...</td>\n",
              "    </tr>\n",
              "    <tr>\n",
              "      <th>1874</th>\n",
              "      <td>1</td>\n",
              "      <td>321</td>\n",
              "      <td>76.03</td>\n",
              "      <td>8</td>\n",
              "      <td>7</td>\n",
              "      <td>2</td>\n",
              "      <td>0.071651</td>\n",
              "      <td>0.236854</td>\n",
              "      <td>0.347826</td>\n",
              "      <td>0</td>\n",
              "    </tr>\n",
              "    <tr>\n",
              "      <th>1875</th>\n",
              "      <td>1</td>\n",
              "      <td>397</td>\n",
              "      <td>41.89</td>\n",
              "      <td>5</td>\n",
              "      <td>5</td>\n",
              "      <td>0</td>\n",
              "      <td>0.065491</td>\n",
              "      <td>0.105516</td>\n",
              "      <td>0.192308</td>\n",
              "      <td>1</td>\n",
              "    </tr>\n",
              "    <tr>\n",
              "      <th>1876</th>\n",
              "      <td>4</td>\n",
              "      <td>316</td>\n",
              "      <td>41.83</td>\n",
              "      <td>5</td>\n",
              "      <td>8</td>\n",
              "      <td>1</td>\n",
              "      <td>0.094937</td>\n",
              "      <td>0.132373</td>\n",
              "      <td>0.166667</td>\n",
              "      <td>0</td>\n",
              "    </tr>\n",
              "    <tr>\n",
              "      <th>1877</th>\n",
              "      <td>2</td>\n",
              "      <td>685</td>\n",
              "      <td>62.68</td>\n",
              "      <td>1</td>\n",
              "      <td>6</td>\n",
              "      <td>2</td>\n",
              "      <td>0.035036</td>\n",
              "      <td>0.091504</td>\n",
              "      <td>0.041667</td>\n",
              "      <td>0</td>\n",
              "    </tr>\n",
              "    <tr>\n",
              "      <th>1878</th>\n",
              "      <td>4</td>\n",
              "      <td>1140</td>\n",
              "      <td>38.03</td>\n",
              "      <td>2</td>\n",
              "      <td>2</td>\n",
              "      <td>3</td>\n",
              "      <td>0.016667</td>\n",
              "      <td>0.033360</td>\n",
              "      <td>0.105263</td>\n",
              "      <td>0</td>\n",
              "    </tr>\n",
              "  </tbody>\n",
              "</table>\n",
              "<p>1879 rows × 10 columns</p>\n",
              "</div>"
            ],
            "text/plain": [
              "      trustLevel  totalScanTimeInSeconds  grandTotal  lineItemVoids  \\\n",
              "0              5                    1054       54.70              7   \n",
              "1              3                     108       27.36              5   \n",
              "2              3                    1516       62.16              3   \n",
              "3              6                    1791       92.31              8   \n",
              "4              5                     430       81.53              3   \n",
              "...          ...                     ...         ...            ...   \n",
              "1874           1                     321       76.03              8   \n",
              "1875           1                     397       41.89              5   \n",
              "1876           4                     316       41.83              5   \n",
              "1877           2                     685       62.68              1   \n",
              "1878           4                    1140       38.03              2   \n",
              "\n",
              "      scansWithoutRegistration  quantityModifications  \\\n",
              "0                            0                      3   \n",
              "1                            2                      4   \n",
              "2                           10                      5   \n",
              "3                            4                      4   \n",
              "4                            7                      2   \n",
              "...                        ...                    ...   \n",
              "1874                         7                      2   \n",
              "1875                         5                      0   \n",
              "1876                         8                      1   \n",
              "1877                         6                      2   \n",
              "1878                         2                      3   \n",
              "\n",
              "      scannedLineItemsPerSecond  valuePerSecond  lineItemVoidsPerPosition  \\\n",
              "0                      0.027514        0.051898                  0.241379   \n",
              "1                      0.129630        0.253333                  0.357143   \n",
              "2                      0.008575        0.041003                  0.230769   \n",
              "3                      0.016192        0.051541                  0.275862   \n",
              "4                      0.062791        0.189605                  0.111111   \n",
              "...                         ...             ...                       ...   \n",
              "1874                   0.071651        0.236854                  0.347826   \n",
              "1875                   0.065491        0.105516                  0.192308   \n",
              "1876                   0.094937        0.132373                  0.166667   \n",
              "1877                   0.035036        0.091504                  0.041667   \n",
              "1878                   0.016667        0.033360                  0.105263   \n",
              "\n",
              "      fraud  \n",
              "0         0  \n",
              "1         0  \n",
              "2         0  \n",
              "3         0  \n",
              "4         0  \n",
              "...     ...  \n",
              "1874      0  \n",
              "1875      1  \n",
              "1876      0  \n",
              "1877      0  \n",
              "1878      0  \n",
              "\n",
              "[1879 rows x 10 columns]"
            ]
          },
          "execution_count": 3,
          "metadata": {},
          "output_type": "execute_result"
        }
      ],
      "source": [
        "train"
      ]
    },
    {
      "cell_type": "markdown",
      "metadata": {
        "id": "4If4Veoae_7o"
      },
      "source": [
        "**Fact**: This data is very unbalanced. Of the 1879 training data, only 5% of the data is fraudulent transaction data\r\n",
        "\r\n",
        "**Hypothesis**: In the process of determining the model to be used in the classification process, cross validation must be carried out to ensure that the selected model is the model that has the highest performance.\r\n",
        "\r\n",
        "**Hypothesis**: Evaluation metrics that are suitable for this data are precision, recall and f1 score in the *fraud* label."
      ]
    },
    {
      "cell_type": "code",
      "execution_count": 4,
      "metadata": {
        "colab": {
          "base_uri": "https://localhost:8080/"
        },
        "id": "Gpg5NmI1X1x3",
        "outputId": "98184f0d-ff7d-413b-8d01-36dd0c4ce5ea"
      },
      "outputs": [
        {
          "data": {
            "text/plain": [
              "train      1879\n",
              "test     498121\n",
              "dtype: int64"
            ]
          },
          "execution_count": 4,
          "metadata": {},
          "output_type": "execute_result"
        }
      ],
      "source": [
        "pd.Series(data=[len(train),len(test)],index=['train','test'])"
      ]
    },
    {
      "cell_type": "code",
      "execution_count": 5,
      "metadata": {
        "colab": {
          "base_uri": "https://localhost:8080/",
          "height": 295
        },
        "id": "bNYKkJFlW-zv",
        "outputId": "8aa63aeb-fe00-4d96-eb69-3da59f6f20ef"
      },
      "outputs": [
        {
          "name": "stdout",
          "output_type": "stream",
          "text": [
            "fraud percent = 5.534858967535923 %\n"
          ]
        },
        {
          "data": {
            "image/png": "[encoded data removed]",
            "text/plain": [
              "<Figure size 432x288 with 1 Axes>"
            ]
          },
          "metadata": {
            "needs_background": "light"
          },
          "output_type": "display_data"
        }
      ],
      "source": [
        "train.groupby('fraud').size().plot(kind='bar')\n",
        "print('fraud percent =',len(train[train.fraud == 1])/len(train)*100,'%')"
      ]
    },
    {
      "cell_type": "markdown",
      "metadata": {
        "id": "5jPCRVogeOsY"
      },
      "source": [
        "**Facts**: It can be seen that in the training data, all data categorized as fraud have a low individual trust level, between 1 or 2 only.\r\n",
        "\r\n",
        "**Hypothesis**: Models with linear-based models can distinguish fraud well because of this fact"
      ]
    },
    {
      "cell_type": "code",
      "execution_count": 6,
      "metadata": {
        "colab": {
          "base_uri": "https://localhost:8080/"
        },
        "id": "PON35C1BYNhm",
        "outputId": "b9f918dd-0201-454d-f60f-228a157b4f66"
      },
      "outputs": [
        {
          "data": {
            "text/plain": [
              "array([1, 2], dtype=int64)"
            ]
          },
          "execution_count": 6,
          "metadata": {},
          "output_type": "execute_result"
        }
      ],
      "source": [
        "train[train.fraud == 1].trustLevel.unique()"
      ]
    },
    {
      "cell_type": "markdown",
      "metadata": {
        "id": "NAqGOTAQR1rj"
      },
      "source": [
        "**Fact**: in the *lineItemVoidsPerPosition*, *valuePerSecond* and *scannedLineItemsPerSecond* columns it can be seen that there are outliers in this dataset. This is inferred from looking at the average, 75% and max of these columns. The mean and 75% of the columns are far from the largest data in that column.\r\n",
        "\r\n",
        "**Hypothesis**: it seems that fraud data is outlier data"
      ]
    },
    {
      "cell_type": "code",
      "execution_count": 7,
      "metadata": {
        "colab": {
          "base_uri": "https://localhost:8080/",
          "height": 308
        },
        "id": "dzgGC5rkeCQB",
        "outputId": "73b9530c-81e6-40ff-dc47-e45b4805db1e"
      },
      "outputs": [
        {
          "data": {
            "text/html": [
              "<div>\n",
              "<style scoped>\n",
              "    .dataframe tbody tr th:only-of-type {\n",
              "        vertical-align: middle;\n",
              "    }\n",
              "\n",
              "    .dataframe tbody tr th {\n",
              "        vertical-align: top;\n",
              "    }\n",
              "\n",
              "    .dataframe thead th {\n",
              "        text-align: right;\n",
              "    }\n",
              "</style>\n",
              "<table border=\"1\" class=\"dataframe\">\n",
              "  <thead>\n",
              "    <tr style=\"text-align: right;\">\n",
              "      <th></th>\n",
              "      <th>trustLevel</th>\n",
              "      <th>totalScanTimeInSeconds</th>\n",
              "      <th>grandTotal</th>\n",
              "      <th>lineItemVoids</th>\n",
              "      <th>scansWithoutRegistration</th>\n",
              "      <th>quantityModifications</th>\n",
              "      <th>scannedLineItemsPerSecond</th>\n",
              "      <th>valuePerSecond</th>\n",
              "      <th>lineItemVoidsPerPosition</th>\n",
              "      <th>fraud</th>\n",
              "    </tr>\n",
              "  </thead>\n",
              "  <tbody>\n",
              "    <tr>\n",
              "      <th>count</th>\n",
              "      <td>1879.000000</td>\n",
              "      <td>1879.000000</td>\n",
              "      <td>1879.000000</td>\n",
              "      <td>1879.000000</td>\n",
              "      <td>1879.000000</td>\n",
              "      <td>1879.000000</td>\n",
              "      <td>1879.000000</td>\n",
              "      <td>1879.000000</td>\n",
              "      <td>1879.000000</td>\n",
              "      <td>1879.000000</td>\n",
              "    </tr>\n",
              "    <tr>\n",
              "      <th>mean</th>\n",
              "      <td>3.401809</td>\n",
              "      <td>932.153273</td>\n",
              "      <td>50.864492</td>\n",
              "      <td>5.469931</td>\n",
              "      <td>4.904204</td>\n",
              "      <td>2.525279</td>\n",
              "      <td>0.058138</td>\n",
              "      <td>0.201746</td>\n",
              "      <td>0.745404</td>\n",
              "      <td>0.055349</td>\n",
              "    </tr>\n",
              "    <tr>\n",
              "      <th>std</th>\n",
              "      <td>1.709404</td>\n",
              "      <td>530.144640</td>\n",
              "      <td>28.940202</td>\n",
              "      <td>3.451169</td>\n",
              "      <td>3.139697</td>\n",
              "      <td>1.695472</td>\n",
              "      <td>0.278512</td>\n",
              "      <td>1.242135</td>\n",
              "      <td>1.327241</td>\n",
              "      <td>0.228720</td>\n",
              "    </tr>\n",
              "    <tr>\n",
              "      <th>min</th>\n",
              "      <td>1.000000</td>\n",
              "      <td>2.000000</td>\n",
              "      <td>0.010000</td>\n",
              "      <td>0.000000</td>\n",
              "      <td>0.000000</td>\n",
              "      <td>0.000000</td>\n",
              "      <td>0.000548</td>\n",
              "      <td>0.000007</td>\n",
              "      <td>0.000000</td>\n",
              "      <td>0.000000</td>\n",
              "    </tr>\n",
              "    <tr>\n",
              "      <th>25%</th>\n",
              "      <td>2.000000</td>\n",
              "      <td>474.500000</td>\n",
              "      <td>25.965000</td>\n",
              "      <td>2.000000</td>\n",
              "      <td>2.000000</td>\n",
              "      <td>1.000000</td>\n",
              "      <td>0.008384</td>\n",
              "      <td>0.027787</td>\n",
              "      <td>0.160000</td>\n",
              "      <td>0.000000</td>\n",
              "    </tr>\n",
              "    <tr>\n",
              "      <th>50%</th>\n",
              "      <td>3.000000</td>\n",
              "      <td>932.000000</td>\n",
              "      <td>51.210000</td>\n",
              "      <td>5.000000</td>\n",
              "      <td>5.000000</td>\n",
              "      <td>3.000000</td>\n",
              "      <td>0.016317</td>\n",
              "      <td>0.054498</td>\n",
              "      <td>0.350000</td>\n",
              "      <td>0.000000</td>\n",
              "    </tr>\n",
              "    <tr>\n",
              "      <th>75%</th>\n",
              "      <td>5.000000</td>\n",
              "      <td>1397.000000</td>\n",
              "      <td>77.285000</td>\n",
              "      <td>8.000000</td>\n",
              "      <td>8.000000</td>\n",
              "      <td>4.000000</td>\n",
              "      <td>0.032594</td>\n",
              "      <td>0.107313</td>\n",
              "      <td>0.666667</td>\n",
              "      <td>0.000000</td>\n",
              "    </tr>\n",
              "    <tr>\n",
              "      <th>max</th>\n",
              "      <td>6.000000</td>\n",
              "      <td>1831.000000</td>\n",
              "      <td>99.960000</td>\n",
              "      <td>11.000000</td>\n",
              "      <td>10.000000</td>\n",
              "      <td>5.000000</td>\n",
              "      <td>6.666667</td>\n",
              "      <td>37.870000</td>\n",
              "      <td>11.000000</td>\n",
              "      <td>1.000000</td>\n",
              "    </tr>\n",
              "  </tbody>\n",
              "</table>\n",
              "</div>"
            ],
            "text/plain": [
              "        trustLevel  totalScanTimeInSeconds   grandTotal  lineItemVoids  \\\n",
              "count  1879.000000             1879.000000  1879.000000    1879.000000   \n",
              "mean      3.401809              932.153273    50.864492       5.469931   \n",
              "std       1.709404              530.144640    28.940202       3.451169   \n",
              "min       1.000000                2.000000     0.010000       0.000000   \n",
              "25%       2.000000              474.500000    25.965000       2.000000   \n",
              "50%       3.000000              932.000000    51.210000       5.000000   \n",
              "75%       5.000000             1397.000000    77.285000       8.000000   \n",
              "max       6.000000             1831.000000    99.960000      11.000000   \n",
              "\n",
              "       scansWithoutRegistration  quantityModifications  \\\n",
              "count               1879.000000            1879.000000   \n",
              "mean                   4.904204               2.525279   \n",
              "std                    3.139697               1.695472   \n",
              "min                    0.000000               0.000000   \n",
              "25%                    2.000000               1.000000   \n",
              "50%                    5.000000               3.000000   \n",
              "75%                    8.000000               4.000000   \n",
              "max                   10.000000               5.000000   \n",
              "\n",
              "       scannedLineItemsPerSecond  valuePerSecond  lineItemVoidsPerPosition  \\\n",
              "count                1879.000000     1879.000000               1879.000000   \n",
              "mean                    0.058138        0.201746                  0.745404   \n",
              "std                     0.278512        1.242135                  1.327241   \n",
              "min                     0.000548        0.000007                  0.000000   \n",
              "25%                     0.008384        0.027787                  0.160000   \n",
              "50%                     0.016317        0.054498                  0.350000   \n",
              "75%                     0.032594        0.107313                  0.666667   \n",
              "max                     6.666667       37.870000                 11.000000   \n",
              "\n",
              "             fraud  \n",
              "count  1879.000000  \n",
              "mean      0.055349  \n",
              "std       0.228720  \n",
              "min       0.000000  \n",
              "25%       0.000000  \n",
              "50%       0.000000  \n",
              "75%       0.000000  \n",
              "max       1.000000  "
            ]
          },
          "execution_count": 7,
          "metadata": {},
          "output_type": "execute_result"
        }
      ],
      "source": [
        "train.describe()"
      ]
    },
    {
      "cell_type": "markdown",
      "metadata": {
        "id": "4N-XEJdaS9yE"
      },
      "source": [
        "**Facts**: The previous hypothesis is not correct, it turns out that outliers in this dataset are not a sign that the data is fraud. Because based on the mean, 75% and max of the fraud data, there is no data that is far adrift (outliers).\r\n",
        "\r\n",
        "**Hypothesis**: removing outliers cannot affect fraud detection. But it might make it easier to detect non-fraud transactions."
      ]
    },
    {
      "cell_type": "code",
      "execution_count": 8,
      "metadata": {
        "colab": {
          "base_uri": "https://localhost:8080/",
          "height": 308
        },
        "id": "kaY_uexfRH4R",
        "outputId": "06ccf74a-cefa-4ef4-f96e-f10c3c488754"
      },
      "outputs": [
        {
          "data": {
            "text/html": [
              "<div>\n",
              "<style scoped>\n",
              "    .dataframe tbody tr th:only-of-type {\n",
              "        vertical-align: middle;\n",
              "    }\n",
              "\n",
              "    .dataframe tbody tr th {\n",
              "        vertical-align: top;\n",
              "    }\n",
              "\n",
              "    .dataframe thead th {\n",
              "        text-align: right;\n",
              "    }\n",
              "</style>\n",
              "<table border=\"1\" class=\"dataframe\">\n",
              "  <thead>\n",
              "    <tr style=\"text-align: right;\">\n",
              "      <th></th>\n",
              "      <th>trustLevel</th>\n",
              "      <th>totalScanTimeInSeconds</th>\n",
              "      <th>grandTotal</th>\n",
              "      <th>lineItemVoids</th>\n",
              "      <th>scansWithoutRegistration</th>\n",
              "      <th>quantityModifications</th>\n",
              "      <th>scannedLineItemsPerSecond</th>\n",
              "      <th>valuePerSecond</th>\n",
              "      <th>lineItemVoidsPerPosition</th>\n",
              "      <th>fraud</th>\n",
              "    </tr>\n",
              "  </thead>\n",
              "  <tbody>\n",
              "    <tr>\n",
              "      <th>count</th>\n",
              "      <td>104.000000</td>\n",
              "      <td>104.000000</td>\n",
              "      <td>104.000000</td>\n",
              "      <td>104.000000</td>\n",
              "      <td>104.000000</td>\n",
              "      <td>104.000000</td>\n",
              "      <td>104.000000</td>\n",
              "      <td>104.000000</td>\n",
              "      <td>104.000000</td>\n",
              "      <td>104.0</td>\n",
              "    </tr>\n",
              "    <tr>\n",
              "      <th>mean</th>\n",
              "      <td>1.144231</td>\n",
              "      <td>1173.913462</td>\n",
              "      <td>51.034327</td>\n",
              "      <td>6.375000</td>\n",
              "      <td>5.865385</td>\n",
              "      <td>2.519231</td>\n",
              "      <td>0.031582</td>\n",
              "      <td>0.053622</td>\n",
              "      <td>0.251412</td>\n",
              "      <td>1.0</td>\n",
              "    </tr>\n",
              "    <tr>\n",
              "      <th>std</th>\n",
              "      <td>0.353025</td>\n",
              "      <td>471.260881</td>\n",
              "      <td>30.298933</td>\n",
              "      <td>3.498092</td>\n",
              "      <td>3.211199</td>\n",
              "      <td>1.654536</td>\n",
              "      <td>0.034298</td>\n",
              "      <td>0.045918</td>\n",
              "      <td>0.146440</td>\n",
              "      <td>0.0</td>\n",
              "    </tr>\n",
              "    <tr>\n",
              "      <th>min</th>\n",
              "      <td>1.000000</td>\n",
              "      <td>91.000000</td>\n",
              "      <td>0.260000</td>\n",
              "      <td>0.000000</td>\n",
              "      <td>0.000000</td>\n",
              "      <td>0.000000</td>\n",
              "      <td>0.011692</td>\n",
              "      <td>0.000661</td>\n",
              "      <td>0.000000</td>\n",
              "      <td>1.0</td>\n",
              "    </tr>\n",
              "    <tr>\n",
              "      <th>25%</th>\n",
              "      <td>1.000000</td>\n",
              "      <td>819.000000</td>\n",
              "      <td>27.072500</td>\n",
              "      <td>3.000000</td>\n",
              "      <td>3.000000</td>\n",
              "      <td>1.000000</td>\n",
              "      <td>0.016411</td>\n",
              "      <td>0.026209</td>\n",
              "      <td>0.130435</td>\n",
              "      <td>1.0</td>\n",
              "    </tr>\n",
              "    <tr>\n",
              "      <th>50%</th>\n",
              "      <td>1.000000</td>\n",
              "      <td>1309.500000</td>\n",
              "      <td>48.670000</td>\n",
              "      <td>6.000000</td>\n",
              "      <td>7.000000</td>\n",
              "      <td>2.000000</td>\n",
              "      <td>0.020436</td>\n",
              "      <td>0.043697</td>\n",
              "      <td>0.245000</td>\n",
              "      <td>1.0</td>\n",
              "    </tr>\n",
              "    <tr>\n",
              "      <th>75%</th>\n",
              "      <td>1.000000</td>\n",
              "      <td>1540.500000</td>\n",
              "      <td>76.862500</td>\n",
              "      <td>10.000000</td>\n",
              "      <td>8.250000</td>\n",
              "      <td>4.000000</td>\n",
              "      <td>0.033966</td>\n",
              "      <td>0.071838</td>\n",
              "      <td>0.379721</td>\n",
              "      <td>1.0</td>\n",
              "    </tr>\n",
              "    <tr>\n",
              "      <th>max</th>\n",
              "      <td>2.000000</td>\n",
              "      <td>1830.000000</td>\n",
              "      <td>99.820000</td>\n",
              "      <td>11.000000</td>\n",
              "      <td>10.000000</td>\n",
              "      <td>5.000000</td>\n",
              "      <td>0.307692</td>\n",
              "      <td>0.230802</td>\n",
              "      <td>0.578947</td>\n",
              "      <td>1.0</td>\n",
              "    </tr>\n",
              "  </tbody>\n",
              "</table>\n",
              "</div>"
            ],
            "text/plain": [
              "       trustLevel  totalScanTimeInSeconds  grandTotal  lineItemVoids  \\\n",
              "count  104.000000              104.000000  104.000000     104.000000   \n",
              "mean     1.144231             1173.913462   51.034327       6.375000   \n",
              "std      0.353025              471.260881   30.298933       3.498092   \n",
              "min      1.000000               91.000000    0.260000       0.000000   \n",
              "25%      1.000000              819.000000   27.072500       3.000000   \n",
              "50%      1.000000             1309.500000   48.670000       6.000000   \n",
              "75%      1.000000             1540.500000   76.862500      10.000000   \n",
              "max      2.000000             1830.000000   99.820000      11.000000   \n",
              "\n",
              "       scansWithoutRegistration  quantityModifications  \\\n",
              "count                104.000000             104.000000   \n",
              "mean                   5.865385               2.519231   \n",
              "std                    3.211199               1.654536   \n",
              "min                    0.000000               0.000000   \n",
              "25%                    3.000000               1.000000   \n",
              "50%                    7.000000               2.000000   \n",
              "75%                    8.250000               4.000000   \n",
              "max                   10.000000               5.000000   \n",
              "\n",
              "       scannedLineItemsPerSecond  valuePerSecond  lineItemVoidsPerPosition  \\\n",
              "count                 104.000000      104.000000                104.000000   \n",
              "mean                    0.031582        0.053622                  0.251412   \n",
              "std                     0.034298        0.045918                  0.146440   \n",
              "min                     0.011692        0.000661                  0.000000   \n",
              "25%                     0.016411        0.026209                  0.130435   \n",
              "50%                     0.020436        0.043697                  0.245000   \n",
              "75%                     0.033966        0.071838                  0.379721   \n",
              "max                     0.307692        0.230802                  0.578947   \n",
              "\n",
              "       fraud  \n",
              "count  104.0  \n",
              "mean     1.0  \n",
              "std      0.0  \n",
              "min      1.0  \n",
              "25%      1.0  \n",
              "50%      1.0  \n",
              "75%      1.0  \n",
              "max      1.0  "
            ]
          },
          "execution_count": 8,
          "metadata": {},
          "output_type": "execute_result"
        }
      ],
      "source": [
        "train[train.fraud == 1].describe()"
      ]
    },
    {
      "cell_type": "markdown",
      "metadata": {
        "id": "PEIVz6LFUJC9"
      },
      "source": [
        "**Facts**: The following are the feature importance of the columns in this dataset using the Pearson correlation algorithm.\r\n",
        "\r\n",
        "**Hypothesis**: Columns that have a correlation of -0.05 < x < 0.05 can not be used because they do not significantly affect the change in the value in the fraud column."
      ]
    },
    {
      "cell_type": "code",
      "execution_count": 9,
      "metadata": {
        "colab": {
          "base_uri": "https://localhost:8080/"
        },
        "id": "vGLdClZjS2r6",
        "outputId": "dce48f57-ff24-47bb-c770-bfbc4503284c"
      },
      "outputs": [
        {
          "data": {
            "text/plain": [
              "trustLevel                  -0.319765\n",
              "totalScanTimeInSeconds       0.110414\n",
              "grandTotal                   0.001421\n",
              "lineItemVoids                0.063496\n",
              "scansWithoutRegistration     0.074123\n",
              "quantityModifications       -0.000864\n",
              "scannedLineItemsPerSecond   -0.023085\n",
              "valuePerSecond              -0.028873\n",
              "lineItemVoidsPerPosition    -0.090116\n",
              "fraud                        1.000000\n",
              "Name: fraud, dtype: float64"
            ]
          },
          "execution_count": 9,
          "metadata": {},
          "output_type": "execute_result"
        }
      ],
      "source": [
        "train.corr().fraud"
      ]
    },
    {
      "cell_type": "markdown",
      "metadata": {
        "id": "ifkJ4_IfXJhe"
      },
      "source": [
        "# Feature Engineering & Data Preprocessing"
      ]
    },
    {
      "cell_type": "markdown",
      "metadata": {
        "id": "H2WagIdhXbFn"
      },
      "source": [
        "**TO-DO**:\r\n",
        "* Add column 'totalItems' which contains the number of items purchased in one transaction\r\n",
        "* see the correlation to the fraud column"
      ]
    },
    {
      "cell_type": "code",
      "execution_count": 10,
      "metadata": {
        "colab": {
          "base_uri": "https://localhost:8080/"
        },
        "id": "CfaOehCkXM-r",
        "outputId": "f4ecf823-c83e-44d0-a6ad-3bd36e1aaa44"
      },
      "outputs": [
        {
          "name": "stderr",
          "output_type": "stream",
          "text": [
            "100%|██████████| 1879/1879 [00:00<00:00, 4742.56it/s]\n",
            "100%|██████████| 498121/498121 [02:11<00:00, 3774.18it/s]\n"
          ]
        }
      ],
      "source": [
        "train['totalItems'] = [train.iloc[i].totalScanTimeInSeconds * train.iloc[i].scannedLineItemsPerSecond for i in tqdm(range(len(train)))]\n",
        "test['totalItems'] = [test.iloc[i].totalScanTimeInSeconds * test.iloc[i].scannedLineItemsPerSecond for i in tqdm(range(len(test)))]"
      ]
    },
    {
      "cell_type": "code",
      "execution_count": 11,
      "metadata": {
        "colab": {
          "base_uri": "https://localhost:8080/"
        },
        "id": "ldkkp6E8Xape",
        "outputId": "98d36d60-cce4-4918-8cbc-30aa6a66e1c5"
      },
      "outputs": [
        {
          "data": {
            "text/plain": [
              "0.29842339148455455"
            ]
          },
          "execution_count": 11,
          "metadata": {},
          "output_type": "execute_result"
        }
      ],
      "source": [
        "train.corr().totalItems.fraud"
      ]
    },
    {
      "cell_type": "markdown",
      "metadata": {
        "id": "J-RXpq7tZQ-j"
      },
      "source": [
        "**TO-DO**:\r\n",
        "* Look for the column whose feature importance is -0.05 < x < 0.05\r\n",
        "* Drop the column\r\n",
        "* Create variables X, X_test, y that are ready to be used for the model"
      ]
    },
    {
      "cell_type": "code",
      "execution_count": 12,
      "metadata": {
        "colab": {
          "base_uri": "https://localhost:8080/"
        },
        "id": "132N0Gs0X77U",
        "outputId": "a3054dde-7975-497f-e059-3cde3b4a64c6"
      },
      "outputs": [
        {
          "data": {
            "text/plain": [
              "['grandTotal',\n",
              " 'quantityModifications',\n",
              " 'scannedLineItemsPerSecond',\n",
              " 'valuePerSecond']"
            ]
          },
          "execution_count": 12,
          "metadata": {},
          "output_type": "execute_result"
        }
      ],
      "source": [
        "corr = train.corr().fraud\n",
        "todrop = [i for i in corr.index if corr[i] < 0.05 and corr[i] > -0.05]\n",
        "todrop"
      ]
    },
    {
      "cell_type": "code",
      "execution_count": 13,
      "metadata": {
        "id": "v63lyih4Yevx"
      },
      "outputs": [],
      "source": [
        "X = train.drop(columns=todrop+['fraud'])\n",
        "X_test = test.drop(columns=todrop)\n",
        "y = train.fraud.values"
      ]
    },
    {
      "cell_type": "markdown",
      "metadata": {
        "id": "CBC9MxBwa255"
      },
      "source": [
        "**TO-DO**:\r\n",
        "* Scale the dataset using the Standard Scaler. So that models that do not have a built-in scaler such as SVM or Logistic Regression can fit better and reach convergence more quickly."
      ]
    },
    {
      "cell_type": "code",
      "execution_count": 14,
      "metadata": {
        "id": "SxV2x9iZas6i"
      },
      "outputs": [],
      "source": [
        "from sklearn.preprocessing import StandardScaler\n",
        "scaler = StandardScaler()\n",
        "X = scaler.fit_transform(X)\n",
        "X_test = scaler.transform(X_test)"
      ]
    },
    {
      "cell_type": "markdown",
      "metadata": {
        "id": "LtyPvIOqdKjJ"
      },
      "source": [
        "# Defining Additional Evaluation Metrics"
      ]
    },
    {
      "cell_type": "markdown",
      "metadata": {
        "id": "MhsWaQ3GdPdc"
      },
      "source": [
        "In the Data Mining Cup 2019, additional evaluation metrics in the form of reward \r\n",
        "<br>punishment are also given that the data uses as a moral compass to determine \r\n",
        "<br>how many false positives and false negatives are reasonable for a model. \r\n",
        "<br>The following is the cost matrix given for the Data Mining Cup 2019:"
      ]
    },
    {
      "cell_type": "markdown",
      "metadata": {
        "id": "uMWSGH-RfdGb"
      },
      "source": [
        "![image.png](data:image/png;base64,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)"
      ]
    },
    {
      "cell_type": "code",
      "execution_count": 15,
      "metadata": {
        "id": "jvBeTdfSclBI"
      },
      "outputs": [],
      "source": [
        "def evaluate(actual, pred, pri=True, ret='all'):\r\n",
        "    tn, fp, fn, tp = confusion_matrix(actual, pred).ravel()\r\n",
        "    if pri:\r\n",
        "      print('TN =',tn,', FP =', fp,', FN =', fn,', TP =',tp)\r\n",
        "      print((tp*5) + (tn*0) + (fp*-25) + (fn*-5),'/', len(actual[actual == 1]) * 5)\r\n",
        "      print('current monetary profit / highest monetary profit that possible')\r\n",
        "    if ret != None:\r\n",
        "      if ret == 'all':\r\n",
        "        return (tp*5) + (tn*0) + (fp*-25) + (fn*-5)\r\n",
        "      elif ret == 'fpfn':\r\n",
        "        return fp+fn\r\n",
        "      elif ret == 'fp':\r\n",
        "        return fp\r\n",
        "      elif ret == 'fn':\r\n",
        "        return fn"
      ]
    },
    {
      "cell_type": "markdown",
      "metadata": {
        "id": "KuWePWVscJyf"
      },
      "source": [
        "# Find The Best Performance Baseline Model with Cross Validation"
      ]
    },
    {
      "cell_type": "code",
      "execution_count": 16,
      "metadata": {
        "id": "FQ3qMwRscTl3"
      },
      "outputs": [],
      "source": [
        "from sklearn.metrics import classification_report\n",
        "from sklearn.linear_model import LogisticRegression\n",
        "from sklearn.svm import LinearSVC\n",
        "from sklearn.svm import SVC\n",
        "from sklearn.naive_bayes import GaussianNB\n",
        "from sklearn.tree import DecisionTreeClassifier\n",
        "from sklearn.neural_network import MLPClassifier\n",
        "from sklearn.neighbors import KNeighborsClassifier\n",
        "from sklearn.model_selection import cross_val_predict\n",
        "from sklearn.metrics import confusion_matrix"
      ]
    },
    {
      "cell_type": "code",
      "execution_count": 17,
      "metadata": {
        "id": "sWJ16C2aa2WI"
      },
      "outputs": [],
      "source": [
        "models = {\r\n",
        "    'Naive Bayes' : GaussianNB(), #Naive Bayes\r\n",
        "    'Logistic Regression' : LogisticRegression(), #Linear Model\r\n",
        "    'Linear SVC' : LinearSVC(), #Support Vector\r\n",
        "    'SVC rbf': SVC(kernel='rbf',probability=True),#Support Vector\r\n",
        "    'SVC poly': SVC(kernel='poly', probability=True),#Support Vector\r\n",
        "    'Decision Tree': DecisionTreeClassifier(), #Tree\r\n",
        "    'MLP' : MLPClassifier(random_state=12,hidden_layer_sizes=(100),max_iter=1000), #Neural Network\r\n",
        "    'KNN' : KNeighborsClassifier(), #Nearest Neighbor\r\n",
        "}"
      ]
    },
    {
      "cell_type": "markdown",
      "metadata": {
        "id": "GCywJEkTs7SR"
      },
      "source": [
        "In the following results, focus on the FP and FN of each model prediction result:"
      ]
    },
    {
      "cell_type": "code",
      "execution_count": 18,
      "metadata": {
        "colab": {
          "base_uri": "https://localhost:8080/"
        },
        "id": "7IgdHXKdb5R3",
        "outputId": "f0cce521-71dc-4583-b82a-da34246302bf"
      },
      "outputs": [
        {
          "name": "stdout",
          "output_type": "stream",
          "text": [
            "Model : Naive Bayes\n",
            "              precision    recall  f1-score   support\n",
            "\n",
            "           0       1.00      0.97      0.98      1775\n",
            "           1       0.64      0.92      0.75       104\n",
            "\n",
            "    accuracy                           0.97      1879\n",
            "   macro avg       0.82      0.95      0.87      1879\n",
            "weighted avg       0.98      0.97      0.97      1879\n",
            "\n",
            "TN = 1720 , FP = 55 , FN = 8 , TP = 96\n",
            "-935 / 520\n",
            "current monetary profit / highest monetary profit that possible\n",
            "FP+FN = 63\n",
            "============================================\n",
            "Model : Logistic Regression\n",
            "              precision    recall  f1-score   support\n",
            "\n",
            "           0       0.99      1.00      0.99      1775\n",
            "           1       0.95      0.87      0.90       104\n",
            "\n",
            "    accuracy                           0.99      1879\n",
            "   macro avg       0.97      0.93      0.95      1879\n",
            "weighted avg       0.99      0.99      0.99      1879\n",
            "\n",
            "TN = 1770 , FP = 5 , FN = 14 , TP = 90\n",
            "255 / 520\n",
            "current monetary profit / highest monetary profit that possible\n",
            "FP+FN = 19\n",
            "============================================\n",
            "Model : Linear SVC\n",
            "              precision    recall  f1-score   support\n",
            "\n",
            "           0       1.00      1.00      1.00      1775\n",
            "           1       0.93      0.92      0.93       104\n",
            "\n",
            "    accuracy                           0.99      1879\n",
            "   macro avg       0.96      0.96      0.96      1879\n",
            "weighted avg       0.99      0.99      0.99      1879\n",
            "\n",
            "TN = 1768 , FP = 7 , FN = 8 , TP = 96\n",
            "265 / 520\n",
            "current monetary profit / highest monetary profit that possible\n",
            "FP+FN = 15\n",
            "============================================\n",
            "Model : SVC rbf\n",
            "              precision    recall  f1-score   support\n",
            "\n",
            "           0       0.99      1.00      0.99      1775\n",
            "           1       0.96      0.83      0.89       104\n",
            "\n",
            "    accuracy                           0.99      1879\n",
            "   macro avg       0.97      0.91      0.94      1879\n",
            "weighted avg       0.99      0.99      0.99      1879\n",
            "\n",
            "TN = 1771 , FP = 4 , FN = 18 , TP = 86\n",
            "240 / 520\n",
            "current monetary profit / highest monetary profit that possible\n",
            "FP+FN = 22\n",
            "============================================\n",
            "Model : SVC poly\n",
            "              precision    recall  f1-score   support\n",
            "\n",
            "           0       0.99      1.00      0.99      1775\n",
            "           1       0.96      0.84      0.89       104\n",
            "\n",
            "    accuracy                           0.99      1879\n",
            "   macro avg       0.97      0.92      0.94      1879\n",
            "weighted avg       0.99      0.99      0.99      1879\n",
            "\n",
            "TN = 1771 , FP = 4 , FN = 17 , TP = 87\n",
            "250 / 520\n",
            "current monetary profit / highest monetary profit that possible\n",
            "FP+FN = 21\n",
            "============================================\n",
            "Model : Decision Tree\n",
            "              precision    recall  f1-score   support\n",
            "\n",
            "           0       0.99      0.99      0.99      1775\n",
            "           1       0.81      0.84      0.82       104\n",
            "\n",
            "    accuracy                           0.98      1879\n",
            "   macro avg       0.90      0.91      0.91      1879\n",
            "weighted avg       0.98      0.98      0.98      1879\n",
            "\n",
            "TN = 1754 , FP = 21 , FN = 17 , TP = 87\n",
            "-175 / 520\n",
            "current monetary profit / highest monetary profit that possible\n",
            "FP+FN = 38\n",
            "============================================\n",
            "Model : MLP\n",
            "              precision    recall  f1-score   support\n",
            "\n",
            "           0       0.99      1.00      1.00      1775\n",
            "           1       0.94      0.91      0.93       104\n",
            "\n",
            "    accuracy                           0.99      1879\n",
            "   macro avg       0.97      0.96      0.96      1879\n",
            "weighted avg       0.99      0.99      0.99      1879\n",
            "\n",
            "TN = 1769 , FP = 6 , FN = 9 , TP = 95\n",
            "280 / 520\n",
            "current monetary profit / highest monetary profit that possible\n",
            "FP+FN = 15\n",
            "============================================\n",
            "Model : KNN\n",
            "              precision    recall  f1-score   support\n",
            "\n",
            "           0       0.98      0.99      0.99      1775\n",
            "           1       0.85      0.70      0.77       104\n",
            "\n",
            "    accuracy                           0.98      1879\n",
            "   macro avg       0.92      0.85      0.88      1879\n",
            "weighted avg       0.98      0.98      0.98      1879\n",
            "\n",
            "TN = 1762 , FP = 13 , FN = 31 , TP = 73\n",
            "-115 / 520\n",
            "current monetary profit / highest monetary profit that possible\n",
            "FP+FN = 44\n",
            "============================================\n"
          ]
        }
      ],
      "source": [
        "for key, clf in models.items():\r\n",
        "    print('Model :',key)\r\n",
        "    pred = cross_val_predict(clf, X, y, cv=10) #do cross validation with 10 fold\r\n",
        "    print(classification_report(y, pred))\r\n",
        "    print('FP+FN =',evaluate(y,pred,ret='fpfn'))\r\n",
        "    print('============================================')"
      ]
    },
    {
      "cell_type": "markdown",
      "metadata": {
        "id": "IKpgZ9M7e-qw"
      },
      "source": [
        "### Performance of Best Baseline Model Against Test Data and Ground Truth"
      ]
    },
    {
      "cell_type": "code",
      "execution_count": 19,
      "metadata": {
        "colab": {
          "base_uri": "https://localhost:8080/"
        },
        "id": "yMrMB73Oy6If",
        "outputId": "4f1806a2-fcc3-498a-a310-8a7992260380"
      },
      "outputs": [
        {
          "name": "stdout",
          "output_type": "stream",
          "text": [
            "              precision    recall  f1-score   support\n",
            "\n",
            "           0       1.00      0.97      0.98    474394\n",
            "           1       0.60      0.96      0.74     23727\n",
            "\n",
            "    accuracy                           0.97    498121\n",
            "   macro avg       0.80      0.96      0.86    498121\n",
            "weighted avg       0.98      0.97      0.97    498121\n",
            "\n",
            "TN = 459170 , FP = 15224 , FN = 1063 , TP = 22664\n",
            "-272595 / 118635\n",
            "current monetary profit / highest monetary profit that possible\n",
            "FP+FN = 16287\n"
          ]
        }
      ],
      "source": [
        "clf = GaussianNB()\r\n",
        "clf.fit(X,y)\r\n",
        "pred = clf.predict(X_test)\r\n",
        "print(classification_report(truth, pred))\r\n",
        "print('FP+FN =',evaluate(truth,pred,ret='fpfn'))"
      ]
    },
    {
      "cell_type": "code",
      "execution_count": 20,
      "metadata": {
        "colab": {
          "base_uri": "https://localhost:8080/"
        },
        "id": "GjlWGW9IcnJ-",
        "outputId": "56cbff78-d1b3-4a17-8356-b5e26732428d"
      },
      "outputs": [
        {
          "name": "stdout",
          "output_type": "stream",
          "text": [
            "              precision    recall  f1-score   support\n",
            "\n",
            "           0       0.99      0.99      0.99    474394\n",
            "           1       0.90      0.90      0.90     23727\n",
            "\n",
            "    accuracy                           0.99    498121\n",
            "   macro avg       0.95      0.95      0.95    498121\n",
            "weighted avg       0.99      0.99      0.99    498121\n",
            "\n",
            "TN = 471969 , FP = 2425 , FN = 2484 , TP = 21243\n",
            "33170 / 118635\n",
            "current monetary profit / highest monetary profit that possible\n",
            "FP+FN = 4909\n"
          ]
        }
      ],
      "source": [
        "clf = LinearSVC()\r\n",
        "clf.fit(X,y)\r\n",
        "pred = clf.predict(X_test)\r\n",
        "print(classification_report(truth, pred))\r\n",
        "print('FP+FN =',evaluate(truth,pred,ret='fpfn'))"
      ]
    },
    {
      "cell_type": "code",
      "execution_count": 21,
      "metadata": {
        "colab": {
          "base_uri": "https://localhost:8080/"
        },
        "id": "ehfNdEkNoW-C",
        "outputId": "f1644609-f613-4d87-d18c-8b29ca516a8b"
      },
      "outputs": [
        {
          "name": "stdout",
          "output_type": "stream",
          "text": [
            "              precision    recall  f1-score   support\n",
            "\n",
            "           0       0.99      1.00      0.99    474394\n",
            "           1       0.93      0.81      0.87     23727\n",
            "\n",
            "    accuracy                           0.99    498121\n",
            "   macro avg       0.96      0.90      0.93    498121\n",
            "weighted avg       0.99      0.99      0.99    498121\n",
            "\n",
            "TN = 472984 , FP = 1410 , FN = 4438 , TP = 19289\n",
            "39005 / 118635\n",
            "current monetary profit / highest monetary profit that possible\n",
            "FP+FN = 5848\n"
          ]
        }
      ],
      "source": [
        "clf = SVC(kernel='poly', probability=True)\r\n",
        "clf.fit(X,y)\r\n",
        "pred = clf.predict(X_test)\r\n",
        "print(classification_report(truth, pred))\r\n",
        "print('FP+FN =',evaluate(truth,pred,ret='fpfn'))"
      ]
    },
    {
      "cell_type": "code",
      "execution_count": 22,
      "metadata": {
        "colab": {
          "base_uri": "https://localhost:8080/"
        },
        "id": "zLyfB9XmowO-",
        "outputId": "d1599c6a-e505-411e-acf7-7d89eb98f2f5"
      },
      "outputs": [
        {
          "name": "stdout",
          "output_type": "stream",
          "text": [
            "              precision    recall  f1-score   support\n",
            "\n",
            "           0       0.99      1.00      0.99    474394\n",
            "           1       0.90      0.88      0.89     23727\n",
            "\n",
            "    accuracy                           0.99    498121\n",
            "   macro avg       0.95      0.94      0.94    498121\n",
            "weighted avg       0.99      0.99      0.99    498121\n",
            "\n",
            "TN = 472107 , FP = 2287 , FN = 2731 , TP = 20996\n",
            "34150 / 118635\n",
            "current monetary profit / highest monetary profit that possible\n",
            "FP+FN = 5018\n"
          ]
        }
      ],
      "source": [
        "clf = MLPClassifier(random_state=12,hidden_layer_sizes=(100),max_iter=1000)\r\n",
        "clf.fit(X,y)\r\n",
        "pred = clf.predict(X_test)\r\n",
        "print(classification_report(truth, pred))\r\n",
        "print('FP+FN =',evaluate(truth,pred,ret='fpfn'))"
      ]
    },
    {
      "cell_type": "markdown",
      "metadata": {
        "id": "ZPrUe6D7RKms"
      },
      "source": [
        "**Best Baseline Model**"
      ]
    },
    {
      "cell_type": "code",
      "execution_count": 23,
      "metadata": {
        "colab": {
          "base_uri": "https://localhost:8080/"
        },
        "id": "r68jytqTi1uU",
        "outputId": "99d06e91-f72a-414f-ad47-9fe96336e50c"
      },
      "outputs": [
        {
          "name": "stdout",
          "output_type": "stream",
          "text": [
            "              precision    recall  f1-score   support\n",
            "\n",
            "           0       0.99      1.00      0.99    474394\n",
            "           1       0.93      0.86      0.89     23727\n",
            "\n",
            "    accuracy                           0.99    498121\n",
            "   macro avg       0.96      0.93      0.94    498121\n",
            "weighted avg       0.99      0.99      0.99    498121\n",
            "\n",
            "TN = 472889 , FP = 1505 , FN = 3380 , TP = 20347\n",
            "47210 / 118635\n",
            "current monetary profit / highest monetary profit that possible\n",
            "FP+FN = 4885\n"
          ]
        }
      ],
      "source": [
        "clf = LogisticRegression()\r\n",
        "clf.fit(X,y)\r\n",
        "pred = clf.predict(X_test)\r\n",
        "print(classification_report(truth, pred))\r\n",
        "print('FP+FN =',evaluate(truth,pred,ret='fpfn'))"
      ]
    },
    {
      "cell_type": "markdown",
      "metadata": {
        "id": "6E1SDpM9q9_Q"
      },
      "source": [
        "Can be concluded that:\r\n",
        "* Logistic Regression is better than SVC poly because it can classify fraud with the highest monetary profit in the test data. Logistic Regression gets the lowest FP but high False Negative\r\n",
        "* MLP and Linear SVC can classify fraud with relatively stable FP and FN and can be accepted with stable reasons.\r\n",
        "* Naive Bayes can classify data with low FN, this makes the TP value higher. This model is suitable if there is no problem when there is a False Positive. However, in this case False Positive can make customers not want to shop at this store because they are accused of cheating when they are not.\r\n",
        "\r\n",
        "Since this model is based on monetary profit, the best baseline model is Logistic Regression with a monetary profit of €47,210 and the number of misclassifications (FP+FN) of 4,885 transactions"
      ]
    }
  ],
  "metadata": {
    "colab": {
      "collapsed_sections": [],
      "name": "1301174068 Tugas Besar Data Mining",
      "provenance": [],
      "toc_visible": true
    },
    "interpreter": {
      "hash": "7b4b4feff2f24a0f0a34464dbe537a36fda679851528fb8735cb41fa49dffb2d"
    },
    "kernelspec": {
      "display_name": "Python 3.8.5 64-bit ('base': conda)",
      "name": "matt"
    },
    "language_info": {
      "name": "python",
      "version": ""
    }
  },
  "nbformat": 4,
  "nbformat_minor": 0
}